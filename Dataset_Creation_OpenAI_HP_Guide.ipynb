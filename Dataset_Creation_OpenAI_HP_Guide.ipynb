{
 "cells": [
  {
   "cell_type": "markdown",
   "metadata": {},
   "source": [
    "# Dataset Creation with OpenAI API"
   ]
  },
  {
   "cell_type": "code",
   "execution_count": null,
   "metadata": {},
   "outputs": [],
   "source": []
  },
  {
   "cell_type": "code",
   "execution_count": null,
   "metadata": {
    "colab": {
     "base_uri": "https://localhost:8080/"
    },
    "executionInfo": {
     "elapsed": 21460,
     "status": "ok",
     "timestamp": 1702059780414,
     "user": {
      "displayName": "Dimitry Kirtsman",
      "userId": "11988189828040272864"
     },
     "user_tz": 480
    },
    "id": "rKgsFjxVOgJw",
    "outputId": "879621bc-fbd1-4edc-9794-f44b0b041553"
   },
   "outputs": [
    {
     "name": "stdout",
     "output_type": "stream",
     "text": [
      "\u001b[2K     \u001b[90m━━━━━━━━━━━━━━━━━━━━━━━━━━━━━━━━━━━━━━━━\u001b[0m \u001b[32m2.0/2.0 MB\u001b[0m \u001b[31m10.3 MB/s\u001b[0m eta \u001b[36m0:00:00\u001b[0m\n",
      "\u001b[2K     \u001b[90m━━━━━━━━━━━━━━━━━━━━━━━━━━━━━━━━━━━━━━━━\u001b[0m \u001b[32m2.0/2.0 MB\u001b[0m \u001b[31m47.9 MB/s\u001b[0m eta \u001b[36m0:00:00\u001b[0m\n",
      "\u001b[2K     \u001b[90m━━━━━━━━━━━━━━━━━━━━━━━━━━━━━━━━━━━━━━━━\u001b[0m \u001b[32m48.9/48.9 kB\u001b[0m \u001b[31m3.7 MB/s\u001b[0m eta \u001b[36m0:00:00\u001b[0m\n",
      "\u001b[2K     \u001b[90m━━━━━━━━━━━━━━━━━━━━━━━━━━━━━━━━━━━━━━━━\u001b[0m \u001b[32m221.4/221.4 kB\u001b[0m \u001b[31m15.1 MB/s\u001b[0m eta \u001b[36m0:00:00\u001b[0m\n",
      "\u001b[2K     \u001b[90m━━━━━━━━━━━━━━━━━━━━━━━━━━━━━━━━━━━━━━━━\u001b[0m \u001b[32m232.6/232.6 kB\u001b[0m \u001b[31m10.9 MB/s\u001b[0m eta \u001b[36m0:00:00\u001b[0m\n",
      "\u001b[2K     \u001b[90m━━━━━━━━━━━━━━━━━━━━━━━━━━━━━━━━━━━━━━━━\u001b[0m \u001b[32m521.2/521.2 kB\u001b[0m \u001b[31m38.8 MB/s\u001b[0m eta \u001b[36m0:00:00\u001b[0m\n",
      "\u001b[2K     \u001b[90m━━━━━━━━━━━━━━━━━━━━━━━━━━━━━━━━━━━━━━━━\u001b[0m \u001b[32m86.0/86.0 kB\u001b[0m \u001b[31m9.0 MB/s\u001b[0m eta \u001b[36m0:00:00\u001b[0m\n",
      "\u001b[?25h  Preparing metadata (setup.py) ... \u001b[?25l\u001b[?25hdone\n",
      "\u001b[2K     \u001b[90m━━━━━━━━━━━━━━━━━━━━━━━━━━━━━━━━━━━━━━━━\u001b[0m \u001b[32m181.5/181.5 kB\u001b[0m \u001b[31m17.4 MB/s\u001b[0m eta \u001b[36m0:00:00\u001b[0m\n",
      "\u001b[2K     \u001b[90m━━━━━━━━━━━━━━━━━━━━━━━━━━━━━━━━━━━━━━━━\u001b[0m \u001b[32m48.2/48.2 kB\u001b[0m \u001b[31m3.5 MB/s\u001b[0m eta \u001b[36m0:00:00\u001b[0m\n",
      "\u001b[2K     \u001b[90m━━━━━━━━━━━━━━━━━━━━━━━━━━━━━━━━━━━━━━━━\u001b[0m \u001b[32m3.1/3.1 MB\u001b[0m \u001b[31m46.4 MB/s\u001b[0m eta \u001b[36m0:00:00\u001b[0m\n",
      "\u001b[2K     \u001b[90m━━━━━━━━━━━━━━━━━━━━━━━━━━━━━━━━━━━━━━━━\u001b[0m \u001b[32m75.0/75.0 kB\u001b[0m \u001b[31m8.1 MB/s\u001b[0m eta \u001b[36m0:00:00\u001b[0m\n",
      "\u001b[2K     \u001b[90m━━━━━━━━━━━━━━━━━━━━━━━━━━━━━━━━━━━━━━━━\u001b[0m \u001b[32m115.3/115.3 kB\u001b[0m \u001b[31m11.4 MB/s\u001b[0m eta \u001b[36m0:00:00\u001b[0m\n",
      "\u001b[2K     \u001b[90m━━━━━━━━━━━━━━━━━━━━━━━━━━━━━━━━━━━━━━━━\u001b[0m \u001b[32m134.8/134.8 kB\u001b[0m \u001b[31m16.6 MB/s\u001b[0m eta \u001b[36m0:00:00\u001b[0m\n",
      "\u001b[2K     \u001b[90m━━━━━━━━━━━━━━━━━━━━━━━━━━━━━━━━━━━━━━━━\u001b[0m \u001b[32m1.3/1.3 MB\u001b[0m \u001b[31m55.1 MB/s\u001b[0m eta \u001b[36m0:00:00\u001b[0m\n",
      "\u001b[2K     \u001b[90m━━━━━━━━━━━━━━━━━━━━━━━━━━━━━━━━━━━━━━━━\u001b[0m \u001b[32m49.4/49.4 kB\u001b[0m \u001b[31m5.3 MB/s\u001b[0m eta \u001b[36m0:00:00\u001b[0m\n",
      "\u001b[2K     \u001b[90m━━━━━━━━━━━━━━━━━━━━━━━━━━━━━━━━━━━━━━━━\u001b[0m \u001b[32m76.9/76.9 kB\u001b[0m \u001b[31m7.2 MB/s\u001b[0m eta \u001b[36m0:00:00\u001b[0m\n",
      "\u001b[2K     \u001b[90m━━━━━━━━━━━━━━━━━━━━━━━━━━━━━━━━━━━━━━━━\u001b[0m \u001b[32m58.3/58.3 kB\u001b[0m \u001b[31m6.8 MB/s\u001b[0m eta \u001b[36m0:00:00\u001b[0m\n",
      "\u001b[?25h  Building wheel for sentence-transformers (setup.py) ... \u001b[?25l\u001b[?25hdone\n"
     ]
    }
   ],
   "source": [
    "!pip -q install langchain tiktoken cohere openai PyPDF2 datasets\n",
    "\n",
    "\n",
    "from PyPDF2 import PdfReader\n",
    "from langchain.text_splitter import RecursiveCharacterTextSplitter,CharacterTextSplitter\n",
    "import re\n",
    "import openai\n",
    "import pandas as pd\n",
    "from datasets import Dataset, DatasetDict, load_dataset\n"
   ]
  },
  {
   "cell_type": "code",
   "execution_count": null,
   "metadata": {
    "id": "QZDNLo2GPufq"
   },
   "outputs": [],
   "source": [
    "#OpenAI API_key\n",
    "import os\n",
    "os.environ['OPENAI_API_KEY'] = 'removed'"
   ]
  },
  {
   "cell_type": "code",
   "execution_count": null,
   "metadata": {
    "colab": {
     "base_uri": "https://localhost:8080/"
    },
    "executionInfo": {
     "elapsed": 1067,
     "status": "ok",
     "timestamp": 1701919844214,
     "user": {
      "displayName": "Dimitry Kirtsman",
      "userId": "11988189828040272864"
     },
     "user_tz": 480
    },
    "id": "6tqFMvSyPuiQ",
    "outputId": "15133199-b16b-4d81-c9d6-2de25222cd33"
   },
   "outputs": [
    {
     "name": "stdout",
     "output_type": "stream",
     "text": [
      "Drive already mounted at /content/gdrive; to attempt to forcibly remount, call drive.mount(\"/content/gdrive\", force_remount=True).\n"
     ]
    }
   ],
   "source": [
    "#mounting Google Drive\n",
    "from google.colab import drive\n",
    "drive.mount('/content/gdrive')"
   ]
  },
  {
   "cell_type": "code",
   "execution_count": null,
   "metadata": {
    "id": "fJxdG8MgPuk4"
   },
   "outputs": [],
   "source": [
    "#Read in HP troubleshooting pdf\n",
    "hp_guide=PdfReader('/content/gdrive/MyDrive/Colab Notebooks/Langchain/HP_project/HP_Troubleshooting_Guide.pdf')\n"
   ]
  },
  {
   "cell_type": "code",
   "execution_count": null,
   "metadata": {
    "id": "b4G_NnQOPuqE"
   },
   "outputs": [],
   "source": [
    "#Extract all of the text from the pdf\n",
    "hp_guide_text=''\n",
    "for i, page in enumerate(hp_guide.pages):\n",
    "  text=page.extract_text()\n",
    "  if text:\n",
    "    hp_guide_text+=text\n",
    "\n"
   ]
  },
  {
   "cell_type": "code",
   "execution_count": null,
   "metadata": {
    "colab": {
     "base_uri": "https://localhost:8080/",
     "height": 174
    },
    "executionInfo": {
     "elapsed": 182,
     "status": "ok",
     "timestamp": 1701920044408,
     "user": {
      "displayName": "Dimitry Kirtsman",
      "userId": "11988189828040272864"
     },
     "user_tz": 480
    },
    "id": "J22WfRDPPuso",
    "outputId": "a7dfb1fd-e31c-4519-a1d4-b40c74e01ac1"
   },
   "outputs": [
    {
     "name": "stdout",
     "output_type": "stream",
     "text": [
      "Number of text chunks: 41  \n",
      "\n",
      "Example of text_chunk \n",
      "\n"
     ]
    },
    {
     "data": {
      "application/vnd.google.colaboratory.intrinsic+json": {
       "type": "string"
      },
      "text/plain": [
       "'Troubleshooting Guide www.hp.com 1–11\\nComputer Diagnostic Features\\nDiagnostics for Windows\\nThe Diagnostics for Windows (DFW)  utility allows you to view \\ninformation about the hardware and software configuration of the computer while running Microsoft Windows XP. It also allows you to perform hardware and software te sts on the subsystems of the \\ncomputer.\\nWhen you invoke Diagnostics for Wi ndows, the Overview screen is \\ndisplayed, which shows the current configuration of the computer. From the Overview screen, there is access to several categories of information about th e computer and the Test tab. The information in \\nevery screen of the utility can be saved to a file or printed.\\n✎To test all subsystems, you must log in as the administrator. If you do \\nnot log in as the administrator, you will be unable to test some \\nsubsystems. The inability to test a subsystem will be indicated by an \\nerror message under the subsystem na me in the Test window or by \\nshaded check boxes that  cannot be selected.\\nUse Diagnostics for Windows to dete rmine if all the devices installed \\non the computer are recognized by the system and functioning properly. Running tests is optiona l but recommended after installing \\nor connecting a new device.\\nThird party devices not supported by HP may not be detected by \\nDiagnostics for Windows. Save, pr int, or display the information \\ngenerated by the utility. You should run tests and have the printed report available before placing a ca ll to the Customer Support Center.1–2 www.hp.com Troubleshooting GuideComputer Diagnostic Features\\nDetecting Diagnostics for Windows\\nSome computers ship with the Diagnostics for Windows preloaded, \\nbut not preinstalled. You may have  installed it earlier, along with \\nother utilities, or it may have been installed by another user.\\nTo determine whether Diagnos tics for Windows is installed:\\n1. Access the location of the Diag nostics icons. In Windows XP \\nHome or Windows XP Professional, select Start > Control \\nPanel.\\n2. Look through the displayed icons in the Control Panel.\\n❏If icons for Configuration Re cord and Diagnostics for \\nWindows are included, the Diagnostics for Windows utility is installed.\\n❏If icons for Configuration Re cord and Diagnostics for \\nWindows are not included, the Diagnostics for Windows utility may be loaded, but not installed.Troubleshooting Guide www.hp.com 1–3Computer Diagnostic Features\\nInstalling Diagnostics for Windows\\nIf Diagnostics for Windows is not preloaded, you can download the \\nDiagnostics for Windows SoftPaq from the following Web site:\\nwww.hp.com/support\\nThe following operation is required  only if the diagnostics program \\nsoftware has been loaded on th e hard drive but not installed.\\n1. Close any Windows applications.2. Install the Diagnos tics for Windows utility:\\n❏In Windows XP, select Start > Software Setup icon. Select \\nDiagnostics for Windows > Next  button, then follow the \\ninstructions on the screen.'"
      ]
     },
     "execution_count": 44,
     "metadata": {},
     "output_type": "execute_result"
    }
   ],
   "source": [
    "#Split the text into chunks for use in ChatGPT\n",
    "text_splitter=RecursiveCharacterTextSplitter(chunk_size=3000, chunk_overlap=200)\n",
    "split_text=text_splitter.split_text(hp_guide_text)\n",
    "print(\"Number of text chunks: {}  \\n\".format(len(split_text)))\n",
    "\n",
    "print(\"Example of text_chunk \\n\")\n",
    "split_text[0]\n"
   ]
  },
  {
   "cell_type": "code",
   "execution_count": null,
   "metadata": {
    "colab": {
     "base_uri": "https://localhost:8080/"
    },
    "executionInfo": {
     "elapsed": 191,
     "status": "ok",
     "timestamp": 1701920047269,
     "user": {
      "displayName": "Dimitry Kirtsman",
      "userId": "11988189828040272864"
     },
     "user_tz": 480
    },
    "id": "r5KUZPdwPu0v",
    "outputId": "6477faba-1b4d-4d81-c079-56b9f573cb71"
   },
   "outputs": [
    {
     "name": "stdout",
     "output_type": "stream",
     "text": [
      "Number of words in example text chunk: 461\n"
     ]
    }
   ],
   "source": [
    "print(\"Number of words in example text chunk: {}\".format(len([i for i in split_text[0].split()])))"
   ]
  },
  {
   "cell_type": "code",
   "execution_count": null,
   "metadata": {
    "id": "5sD5PtBUprJQ"
   },
   "outputs": [],
   "source": [
    "#Function to obtain question/answer pairs from the text chunks created above. The prompt gives specific instructions on how to format the q/a pairs for easy formatting after they are created.\n",
    "#each q/a pair can be sepearted from others by .split(\"&&&\"\"). The question can then be separated from the answer by .split(\"###\"\")\n",
    "\n",
    "def q_a_retrieval(prompt):\n",
    "  response=openai.chat.completions.create(\n",
    "         model=\"gpt-4\",\n",
    "         messages=[{'role':\"system\",\n",
    "                    \"content\":'''You are a helpful assistant that does not make up answers. Text will be provided by the user. You are to create a question and answer pair.\n",
    "                    You are to create 12 of those question and answer pairs. These question answer pairs will be used as training data to train a Large Langauge Model.\n",
    "                    The question answer pairs need to be different from each other. The output for each question and answer pair should be as\n",
    "                    follows:  user prompt### model answer&&& . Here is an example:  What is the capital of France ### The capital of France is Paris.&&&\n",
    "                    Do not number the question/answers response. Do not use bulletpoints for the question/answers response  '''},\n",
    "                  {\"role\": \"user\",\n",
    "                   \"content\":prompt}],\n",
    "         temperature=0.0,\n",
    "         max_tokens=1500,\n",
    "         top_p=0.3,\n",
    "         n=1)\n",
    "  content=content=response.choices[0].message.content\n",
    "\n",
    "  return content"
   ]
  },
  {
   "cell_type": "code",
   "execution_count": null,
   "metadata": {
    "id": "IZpA6XHIeWCX"
   },
   "outputs": [],
   "source": []
  },
  {
   "cell_type": "code",
   "execution_count": null,
   "metadata": {
    "id": "j-w33QT7eWHc"
   },
   "outputs": [],
   "source": [
    "#Getting the Q/A pairs from ChatGPT\n",
    "q_a_pairs=\"\"\n",
    "\n",
    "for i in range(40):\n",
    "    response = q_a_retrieval(split_text[i])\n",
    "    q_a_pairs = q_a_pairs + response\n",
    "\n",
    "q_a_pairs"
   ]
  },
  {
   "cell_type": "code",
   "execution_count": null,
   "metadata": {
    "id": "56y45qHIg455"
   },
   "outputs": [],
   "source": [
    "#Function to separate the questions and answers. The original output, questions and answers are then placed into a pandas dataframe.\n",
    "def q_a_dataframe(openai_output):\n",
    "  q_a_list=openai_output.split(\"&&&\")\n",
    "  print(len(q_a_list))\n",
    "  q_a_list=[i.strip() for i in q_a_list ]\n",
    "  q_a_list=[i for i in q_a_list if len(i.split(\"###\"))>1] #guards against poor ChatGPT output which does not have a Q/A pair\n",
    "  print(len(q_a_list))\n",
    "  questions=[answer_question.split(\"###\")[0].strip()  for answer_question in q_a_list]\n",
    "  answers=[answer_question.split(\"###\")[1].strip()  for answer_question in q_a_list]\n",
    "  df=pd.DataFrame({\"q_and_a\":q_a_list, 'question':questions, \"answer\":answers})\n",
    "  return df\n",
    "\n",
    "\n",
    "df_q_a_hp_guide=q_a_dataframe(q_a_pairs)\n"
   ]
  },
  {
   "cell_type": "code",
   "execution_count": null,
   "metadata": {
    "id": "5er0TKFhkGAP"
   },
   "outputs": [],
   "source": [
    "#Saving dataset as a CSV file\n",
    "df_q_a_hp_guide.to_csv(\"/content/gdrive/MyDrive/Colab Notebooks/Langchain/HP_project/df_q_a_hp_guide.csv\")"
   ]
  },
  {
   "cell_type": "code",
   "execution_count": null,
   "metadata": {
    "id": "VmWeweUWHjgK"
   },
   "outputs": [],
   "source": []
  },
  {
   "cell_type": "code",
   "execution_count": null,
   "metadata": {
    "id": "CpcM15REian1"
   },
   "outputs": [],
   "source": [
    "#loading dataset\n",
    "df_q_a_hp_guide=pd.read_csv(\"/content/gdrive/MyDrive/Colab Notebooks/Langchain/HP_project/df_q_a_hp_guide.csv\",index_col=0)"
   ]
  },
  {
   "cell_type": "code",
   "execution_count": null,
   "metadata": {
    "colab": {
     "base_uri": "https://localhost:8080/",
     "height": 586
    },
    "executionInfo": {
     "elapsed": 151,
     "status": "ok",
     "timestamp": 1701920912975,
     "user": {
      "displayName": "Dimitry Kirtsman",
      "userId": "11988189828040272864"
     },
     "user_tz": 480
    },
    "id": "CL24ubYsiap7",
    "outputId": "62b5bb29-d5f3-4ce5-8104-18a766f6183d"
   },
   "outputs": [
    {
     "name": "stdout",
     "output_type": "stream",
     "text": [
      "\n",
      "\n",
      "Length of q/a dataset: 452\n"
     ]
    },
    {
     "data": {
      "text/html": [
       "\n",
       "  <div id=\"df-8d7526bb-7476-416c-95d5-fe6be876dee3\" class=\"colab-df-container\">\n",
       "    <div>\n",
       "<style scoped>\n",
       "    .dataframe tbody tr th:only-of-type {\n",
       "        vertical-align: middle;\n",
       "    }\n",
       "\n",
       "    .dataframe tbody tr th {\n",
       "        vertical-align: top;\n",
       "    }\n",
       "\n",
       "    .dataframe thead th {\n",
       "        text-align: right;\n",
       "    }\n",
       "</style>\n",
       "<table border=\"1\" class=\"dataframe\">\n",
       "  <thead>\n",
       "    <tr style=\"text-align: right;\">\n",
       "      <th></th>\n",
       "      <th>q_and_a</th>\n",
       "      <th>question</th>\n",
       "      <th>answer</th>\n",
       "    </tr>\n",
       "    <tr>\n",
       "      <th></th>\n",
       "      <th></th>\n",
       "      <th></th>\n",
       "      <th></th>\n",
       "    </tr>\n",
       "  </thead>\n",
       "  <tbody>\n",
       "    <tr>\n",
       "      <th>0</th>\n",
       "      <td>\"What is the Diagnostics for Windows (DFW) uti...</td>\n",
       "      <td>\"What is the Diagnostics for Windows (DFW) uti...</td>\n",
       "      <td>The Diagnostics for Windows (DFW) utility is u...</td>\n",
       "    </tr>\n",
       "    <tr>\n",
       "      <th>1</th>\n",
       "      <td>\"How can you access the information about the ...</td>\n",
       "      <td>\"How can you access the information about the ...</td>\n",
       "      <td>When you invoke Diagnostics for Windows, the O...</td>\n",
       "    </tr>\n",
       "    <tr>\n",
       "      <th>2</th>\n",
       "      <td>\"What are the limitations of using Diagnostics...</td>\n",
       "      <td>\"What are the limitations of using Diagnostics...</td>\n",
       "      <td>If you do not log in as the administrator, you...</td>\n",
       "    </tr>\n",
       "    <tr>\n",
       "      <th>3</th>\n",
       "      <td>\"What is the purpose of using Diagnostics for ...</td>\n",
       "      <td>\"What is the purpose of using Diagnostics for ...</td>\n",
       "      <td>Diagnostics for Windows is used to determine i...</td>\n",
       "    </tr>\n",
       "    <tr>\n",
       "      <th>4</th>\n",
       "      <td>\"What should you do if third party devices are...</td>\n",
       "      <td>\"What should you do if third party devices are...</td>\n",
       "      <td>Third party devices not supported by HP may no...</td>\n",
       "    </tr>\n",
       "    <tr>\n",
       "      <th>5</th>\n",
       "      <td>\"How can you determine whether Diagnostics for...</td>\n",
       "      <td>\"How can you determine whether Diagnostics for...</td>\n",
       "      <td>To determine whether Diagnostics for Windows i...</td>\n",
       "    </tr>\n",
       "    <tr>\n",
       "      <th>6</th>\n",
       "      <td>\"What should you do if Diagnostics for Windows...</td>\n",
       "      <td>\"What should you do if Diagnostics for Windows...</td>\n",
       "      <td>If Diagnostics for Windows is not installed on...</td>\n",
       "    </tr>\n",
       "    <tr>\n",
       "      <th>7</th>\n",
       "      <td>\"What are the steps to install the Diagnostics...</td>\n",
       "      <td>\"What are the steps to install the Diagnostics...</td>\n",
       "      <td>To install the Diagnostics for Windows utility...</td>\n",
       "    </tr>\n",
       "    <tr>\n",
       "      <th>8</th>\n",
       "      <td>\"What should you do if the Diagnostics for Win...</td>\n",
       "      <td>\"What should you do if the Diagnostics for Win...</td>\n",
       "      <td>If the Diagnostics for Windows utility is load...</td>\n",
       "    </tr>\n",
       "    <tr>\n",
       "      <th>9</th>\n",
       "      <td>\"What is the purpose of the Overview screen in...</td>\n",
       "      <td>\"What is the purpose of the Overview screen in...</td>\n",
       "      <td>The Overview screen in Diagnostics for Windows...</td>\n",
       "    </tr>\n",
       "    <tr>\n",
       "      <th>10</th>\n",
       "      <td>\"What happens if you try to test a subsystem i...</td>\n",
       "      <td>\"What happens if you try to test a subsystem i...</td>\n",
       "      <td>If you try to test a subsystem in Diagnostics ...</td>\n",
       "    </tr>\n",
       "    <tr>\n",
       "      <th>11</th>\n",
       "      <td>\"What should you do after running tests in Dia...</td>\n",
       "      <td>\"What should you do after running tests in Dia...</td>\n",
       "      <td>After running tests in Diagnostics for Windows...</td>\n",
       "    </tr>\n",
       "    <tr>\n",
       "      <th>12</th>\n",
       "      <td>\"\"How do you install Diagnostics for Windows o...</td>\n",
       "      <td>\"\"How do you install Diagnostics for Windows o...</td>\n",
       "      <td>In Windows XP, you can install Diagnostics for...</td>\n",
       "    </tr>\n",
       "    <tr>\n",
       "      <th>13</th>\n",
       "      <td>\"How do you upgrade an existing version of Dia...</td>\n",
       "      <td>\"How do you upgrade an existing version of Dia...</td>\n",
       "      <td>To upgrade an existing version of Diagnostics ...</td>\n",
       "    </tr>\n",
       "    <tr>\n",
       "      <th>14</th>\n",
       "      <td>\"How do you use categories in Diagnostics for ...</td>\n",
       "      <td>\"How do you use categories in Diagnostics for ...</td>\n",
       "      <td>To use the categories in Diagnostics for Windo...</td>\n",
       "    </tr>\n",
       "  </tbody>\n",
       "</table>\n",
       "</div>\n",
       "    <div class=\"colab-df-buttons\">\n",
       "\n",
       "  <div class=\"colab-df-container\">\n",
       "    <button class=\"colab-df-convert\" onclick=\"convertToInteractive('df-8d7526bb-7476-416c-95d5-fe6be876dee3')\"\n",
       "            title=\"Convert this dataframe to an interactive table.\"\n",
       "            style=\"display:none;\">\n",
       "\n",
       "  <svg xmlns=\"http://www.w3.org/2000/svg\" height=\"24px\" viewBox=\"0 -960 960 960\">\n",
       "    <path d=\"M120-120v-720h720v720H120Zm60-500h600v-160H180v160Zm220 220h160v-160H400v160Zm0 220h160v-160H400v160ZM180-400h160v-160H180v160Zm440 0h160v-160H620v160ZM180-180h160v-160H180v160Zm440 0h160v-160H620v160Z\"/>\n",
       "  </svg>\n",
       "    </button>\n",
       "\n",
       "  <style>\n",
       "    .colab-df-container {\n",
       "      display:flex;\n",
       "      gap: 12px;\n",
       "    }\n",
       "\n",
       "    .colab-df-convert {\n",
       "      background-color: #E8F0FE;\n",
       "      border: none;\n",
       "      border-radius: 50%;\n",
       "      cursor: pointer;\n",
       "      display: none;\n",
       "      fill: #1967D2;\n",
       "      height: 32px;\n",
       "      padding: 0 0 0 0;\n",
       "      width: 32px;\n",
       "    }\n",
       "\n",
       "    .colab-df-convert:hover {\n",
       "      background-color: #E2EBFA;\n",
       "      box-shadow: 0px 1px 2px rgba(60, 64, 67, 0.3), 0px 1px 3px 1px rgba(60, 64, 67, 0.15);\n",
       "      fill: #174EA6;\n",
       "    }\n",
       "\n",
       "    .colab-df-buttons div {\n",
       "      margin-bottom: 4px;\n",
       "    }\n",
       "\n",
       "    [theme=dark] .colab-df-convert {\n",
       "      background-color: #3B4455;\n",
       "      fill: #D2E3FC;\n",
       "    }\n",
       "\n",
       "    [theme=dark] .colab-df-convert:hover {\n",
       "      background-color: #434B5C;\n",
       "      box-shadow: 0px 1px 3px 1px rgba(0, 0, 0, 0.15);\n",
       "      filter: drop-shadow(0px 1px 2px rgba(0, 0, 0, 0.3));\n",
       "      fill: #FFFFFF;\n",
       "    }\n",
       "  </style>\n",
       "\n",
       "    <script>\n",
       "      const buttonEl =\n",
       "        document.querySelector('#df-8d7526bb-7476-416c-95d5-fe6be876dee3 button.colab-df-convert');\n",
       "      buttonEl.style.display =\n",
       "        google.colab.kernel.accessAllowed ? 'block' : 'none';\n",
       "\n",
       "      async function convertToInteractive(key) {\n",
       "        const element = document.querySelector('#df-8d7526bb-7476-416c-95d5-fe6be876dee3');\n",
       "        const dataTable =\n",
       "          await google.colab.kernel.invokeFunction('convertToInteractive',\n",
       "                                                    [key], {});\n",
       "        if (!dataTable) return;\n",
       "\n",
       "        const docLinkHtml = 'Like what you see? Visit the ' +\n",
       "          '<a target=\"_blank\" href=https://colab.research.google.com/notebooks/data_table.ipynb>data table notebook</a>'\n",
       "          + ' to learn more about interactive tables.';\n",
       "        element.innerHTML = '';\n",
       "        dataTable['output_type'] = 'display_data';\n",
       "        await google.colab.output.renderOutput(dataTable, element);\n",
       "        const docLink = document.createElement('div');\n",
       "        docLink.innerHTML = docLinkHtml;\n",
       "        element.appendChild(docLink);\n",
       "      }\n",
       "    </script>\n",
       "  </div>\n",
       "\n",
       "\n",
       "<div id=\"df-86e3bab0-40af-4fc0-a6bf-934c906b6466\">\n",
       "  <button class=\"colab-df-quickchart\" onclick=\"quickchart('df-86e3bab0-40af-4fc0-a6bf-934c906b6466')\"\n",
       "            title=\"Suggest charts\"\n",
       "            style=\"display:none;\">\n",
       "\n",
       "<svg xmlns=\"http://www.w3.org/2000/svg\" height=\"24px\"viewBox=\"0 0 24 24\"\n",
       "     width=\"24px\">\n",
       "    <g>\n",
       "        <path d=\"M19 3H5c-1.1 0-2 .9-2 2v14c0 1.1.9 2 2 2h14c1.1 0 2-.9 2-2V5c0-1.1-.9-2-2-2zM9 17H7v-7h2v7zm4 0h-2V7h2v10zm4 0h-2v-4h2v4z\"/>\n",
       "    </g>\n",
       "</svg>\n",
       "  </button>\n",
       "\n",
       "<style>\n",
       "  .colab-df-quickchart {\n",
       "      --bg-color: #E8F0FE;\n",
       "      --fill-color: #1967D2;\n",
       "      --hover-bg-color: #E2EBFA;\n",
       "      --hover-fill-color: #174EA6;\n",
       "      --disabled-fill-color: #AAA;\n",
       "      --disabled-bg-color: #DDD;\n",
       "  }\n",
       "\n",
       "  [theme=dark] .colab-df-quickchart {\n",
       "      --bg-color: #3B4455;\n",
       "      --fill-color: #D2E3FC;\n",
       "      --hover-bg-color: #434B5C;\n",
       "      --hover-fill-color: #FFFFFF;\n",
       "      --disabled-bg-color: #3B4455;\n",
       "      --disabled-fill-color: #666;\n",
       "  }\n",
       "\n",
       "  .colab-df-quickchart {\n",
       "    background-color: var(--bg-color);\n",
       "    border: none;\n",
       "    border-radius: 50%;\n",
       "    cursor: pointer;\n",
       "    display: none;\n",
       "    fill: var(--fill-color);\n",
       "    height: 32px;\n",
       "    padding: 0;\n",
       "    width: 32px;\n",
       "  }\n",
       "\n",
       "  .colab-df-quickchart:hover {\n",
       "    background-color: var(--hover-bg-color);\n",
       "    box-shadow: 0 1px 2px rgba(60, 64, 67, 0.3), 0 1px 3px 1px rgba(60, 64, 67, 0.15);\n",
       "    fill: var(--button-hover-fill-color);\n",
       "  }\n",
       "\n",
       "  .colab-df-quickchart-complete:disabled,\n",
       "  .colab-df-quickchart-complete:disabled:hover {\n",
       "    background-color: var(--disabled-bg-color);\n",
       "    fill: var(--disabled-fill-color);\n",
       "    box-shadow: none;\n",
       "  }\n",
       "\n",
       "  .colab-df-spinner {\n",
       "    border: 2px solid var(--fill-color);\n",
       "    border-color: transparent;\n",
       "    border-bottom-color: var(--fill-color);\n",
       "    animation:\n",
       "      spin 1s steps(1) infinite;\n",
       "  }\n",
       "\n",
       "  @keyframes spin {\n",
       "    0% {\n",
       "      border-color: transparent;\n",
       "      border-bottom-color: var(--fill-color);\n",
       "      border-left-color: var(--fill-color);\n",
       "    }\n",
       "    20% {\n",
       "      border-color: transparent;\n",
       "      border-left-color: var(--fill-color);\n",
       "      border-top-color: var(--fill-color);\n",
       "    }\n",
       "    30% {\n",
       "      border-color: transparent;\n",
       "      border-left-color: var(--fill-color);\n",
       "      border-top-color: var(--fill-color);\n",
       "      border-right-color: var(--fill-color);\n",
       "    }\n",
       "    40% {\n",
       "      border-color: transparent;\n",
       "      border-right-color: var(--fill-color);\n",
       "      border-top-color: var(--fill-color);\n",
       "    }\n",
       "    60% {\n",
       "      border-color: transparent;\n",
       "      border-right-color: var(--fill-color);\n",
       "    }\n",
       "    80% {\n",
       "      border-color: transparent;\n",
       "      border-right-color: var(--fill-color);\n",
       "      border-bottom-color: var(--fill-color);\n",
       "    }\n",
       "    90% {\n",
       "      border-color: transparent;\n",
       "      border-bottom-color: var(--fill-color);\n",
       "    }\n",
       "  }\n",
       "</style>\n",
       "\n",
       "  <script>\n",
       "    async function quickchart(key) {\n",
       "      const quickchartButtonEl =\n",
       "        document.querySelector('#' + key + ' button');\n",
       "      quickchartButtonEl.disabled = true;  // To prevent multiple clicks.\n",
       "      quickchartButtonEl.classList.add('colab-df-spinner');\n",
       "      try {\n",
       "        const charts = await google.colab.kernel.invokeFunction(\n",
       "            'suggestCharts', [key], {});\n",
       "      } catch (error) {\n",
       "        console.error('Error during call to suggestCharts:', error);\n",
       "      }\n",
       "      quickchartButtonEl.classList.remove('colab-df-spinner');\n",
       "      quickchartButtonEl.classList.add('colab-df-quickchart-complete');\n",
       "    }\n",
       "    (() => {\n",
       "      let quickchartButtonEl =\n",
       "        document.querySelector('#df-86e3bab0-40af-4fc0-a6bf-934c906b6466 button');\n",
       "      quickchartButtonEl.style.display =\n",
       "        google.colab.kernel.accessAllowed ? 'block' : 'none';\n",
       "    })();\n",
       "  </script>\n",
       "</div>\n",
       "    </div>\n",
       "  </div>\n"
      ],
      "text/plain": [
       "                                              q_and_a  \\\n",
       "                                                        \n",
       "0   \"What is the Diagnostics for Windows (DFW) uti...   \n",
       "1   \"How can you access the information about the ...   \n",
       "2   \"What are the limitations of using Diagnostics...   \n",
       "3   \"What is the purpose of using Diagnostics for ...   \n",
       "4   \"What should you do if third party devices are...   \n",
       "5   \"How can you determine whether Diagnostics for...   \n",
       "6   \"What should you do if Diagnostics for Windows...   \n",
       "7   \"What are the steps to install the Diagnostics...   \n",
       "8   \"What should you do if the Diagnostics for Win...   \n",
       "9   \"What is the purpose of the Overview screen in...   \n",
       "10  \"What happens if you try to test a subsystem i...   \n",
       "11  \"What should you do after running tests in Dia...   \n",
       "12  \"\"How do you install Diagnostics for Windows o...   \n",
       "13  \"How do you upgrade an existing version of Dia...   \n",
       "14  \"How do you use categories in Diagnostics for ...   \n",
       "\n",
       "                                             question  \\\n",
       "                                                        \n",
       "0   \"What is the Diagnostics for Windows (DFW) uti...   \n",
       "1   \"How can you access the information about the ...   \n",
       "2   \"What are the limitations of using Diagnostics...   \n",
       "3   \"What is the purpose of using Diagnostics for ...   \n",
       "4   \"What should you do if third party devices are...   \n",
       "5   \"How can you determine whether Diagnostics for...   \n",
       "6   \"What should you do if Diagnostics for Windows...   \n",
       "7   \"What are the steps to install the Diagnostics...   \n",
       "8   \"What should you do if the Diagnostics for Win...   \n",
       "9   \"What is the purpose of the Overview screen in...   \n",
       "10  \"What happens if you try to test a subsystem i...   \n",
       "11  \"What should you do after running tests in Dia...   \n",
       "12  \"\"How do you install Diagnostics for Windows o...   \n",
       "13  \"How do you upgrade an existing version of Dia...   \n",
       "14  \"How do you use categories in Diagnostics for ...   \n",
       "\n",
       "                                               answer  \n",
       "                                                       \n",
       "0   The Diagnostics for Windows (DFW) utility is u...  \n",
       "1   When you invoke Diagnostics for Windows, the O...  \n",
       "2   If you do not log in as the administrator, you...  \n",
       "3   Diagnostics for Windows is used to determine i...  \n",
       "4   Third party devices not supported by HP may no...  \n",
       "5   To determine whether Diagnostics for Windows i...  \n",
       "6   If Diagnostics for Windows is not installed on...  \n",
       "7   To install the Diagnostics for Windows utility...  \n",
       "8   If the Diagnostics for Windows utility is load...  \n",
       "9   The Overview screen in Diagnostics for Windows...  \n",
       "10  If you try to test a subsystem in Diagnostics ...  \n",
       "11  After running tests in Diagnostics for Windows...  \n",
       "12  In Windows XP, you can install Diagnostics for...  \n",
       "13  To upgrade an existing version of Diagnostics ...  \n",
       "14  To use the categories in Diagnostics for Windo...  "
      ]
     },
     "execution_count": 67,
     "metadata": {},
     "output_type": "execute_result"
    }
   ],
   "source": [
    "print(\"\\n\\nLength of q/a dataset: {}\".format(df_q_a_hp_manual.shape[0]))\n",
    "df_q_a_hp_manual.head(15)\n"
   ]
  },
  {
   "cell_type": "code",
   "execution_count": null,
   "metadata": {
    "id": "4wFa8FZzYRsR"
   },
   "outputs": [],
   "source": []
  }
 ],
 "metadata": {
  "colab": {
   "authorship_tag": "ABX9TyN/ruGqLtPZLExx/QcvHT+d",
   "provenance": []
  },
  "kernelspec": {
   "display_name": "Python 3 (ipykernel)",
   "language": "python",
   "name": "python3"
  },
  "language_info": {
   "codemirror_mode": {
    "name": "ipython",
    "version": 3
   },
   "file_extension": ".py",
   "mimetype": "text/x-python",
   "name": "python",
   "nbconvert_exporter": "python",
   "pygments_lexer": "ipython3",
   "version": "3.8.8"
  }
 },
 "nbformat": 4,
 "nbformat_minor": 1
}
